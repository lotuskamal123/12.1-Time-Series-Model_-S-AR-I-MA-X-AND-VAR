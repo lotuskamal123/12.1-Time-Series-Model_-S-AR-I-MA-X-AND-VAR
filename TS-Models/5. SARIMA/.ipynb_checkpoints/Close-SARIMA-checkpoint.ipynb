{
 "cells": [
  {
   "cell_type": "code",
   "execution_count": 1,
   "id": "45b02c15",
   "metadata": {},
   "outputs": [],
   "source": [
    "import pandas as pd"
   ]
  },
  {
   "cell_type": "code",
   "execution_count": null,
   "id": "45e5ec40",
   "metadata": {},
   "outputs": [],
   "source": [
    "#https://machinelearningmastery.com/time-series-forecasting-methods-in-python-cheat-sheet/"
   ]
  },
  {
   "cell_type": "code",
   "execution_count": 2,
   "id": "3b2f40f1",
   "metadata": {},
   "outputs": [],
   "source": [
    "from nsepy import get_history as gh\n",
    "import datetime as dt"
   ]
  },
  {
   "cell_type": "code",
   "execution_count": 9,
   "id": "3bc4d091",
   "metadata": {},
   "outputs": [],
   "source": [
    "stk_data=pd.read_csv(\"Tatacoffee13_21.csv\")"
   ]
  },
  {
   "cell_type": "code",
   "execution_count": 10,
   "id": "331d102c",
   "metadata": {},
   "outputs": [],
   "source": [
    "start = dt.datetime(2022,1,1)\n",
    "end = dt.datetime(2022,2,8)\n",
    "stk_data = gh(symbol='ZOMATO',start=start,end=end)"
   ]
  },
  {
   "cell_type": "code",
   "execution_count": 16,
   "id": "c74f2170",
   "metadata": {},
   "outputs": [
    {
     "data": {
      "text/html": [
       "<div>\n",
       "<style scoped>\n",
       "    .dataframe tbody tr th:only-of-type {\n",
       "        vertical-align: middle;\n",
       "    }\n",
       "\n",
       "    .dataframe tbody tr th {\n",
       "        vertical-align: top;\n",
       "    }\n",
       "\n",
       "    .dataframe thead th {\n",
       "        text-align: right;\n",
       "    }\n",
       "</style>\n",
       "<table border=\"1\" class=\"dataframe\">\n",
       "  <thead>\n",
       "    <tr style=\"text-align: right;\">\n",
       "      <th></th>\n",
       "      <th>Open</th>\n",
       "      <th>High</th>\n",
       "      <th>Low</th>\n",
       "      <th>Close</th>\n",
       "    </tr>\n",
       "    <tr>\n",
       "      <th>Date</th>\n",
       "      <th></th>\n",
       "      <th></th>\n",
       "      <th></th>\n",
       "      <th></th>\n",
       "    </tr>\n",
       "  </thead>\n",
       "  <tbody>\n",
       "  </tbody>\n",
       "</table>\n",
       "</div>"
      ],
      "text/plain": [
       "Empty DataFrame\n",
       "Columns: [Open, High, Low, Close]\n",
       "Index: []"
      ]
     },
     "execution_count": 16,
     "metadata": {},
     "output_type": "execute_result"
    }
   ],
   "source": [
    "stk_data"
   ]
  },
  {
   "cell_type": "code",
   "execution_count": 14,
   "id": "58225494",
   "metadata": {},
   "outputs": [],
   "source": [
    "stk_data1=stk_data[[\"Open\",\"High\",\"Low\",\"Close\"]]"
   ]
  },
  {
   "cell_type": "code",
   "execution_count": 15,
   "id": "ddce512b",
   "metadata": {},
   "outputs": [
    {
     "data": {
      "text/html": [
       "<div>\n",
       "<style scoped>\n",
       "    .dataframe tbody tr th:only-of-type {\n",
       "        vertical-align: middle;\n",
       "    }\n",
       "\n",
       "    .dataframe tbody tr th {\n",
       "        vertical-align: top;\n",
       "    }\n",
       "\n",
       "    .dataframe thead th {\n",
       "        text-align: right;\n",
       "    }\n",
       "</style>\n",
       "<table border=\"1\" class=\"dataframe\">\n",
       "  <thead>\n",
       "    <tr style=\"text-align: right;\">\n",
       "      <th></th>\n",
       "      <th>Open</th>\n",
       "      <th>High</th>\n",
       "      <th>Low</th>\n",
       "      <th>Close</th>\n",
       "    </tr>\n",
       "    <tr>\n",
       "      <th>Date</th>\n",
       "      <th></th>\n",
       "      <th></th>\n",
       "      <th></th>\n",
       "      <th></th>\n",
       "    </tr>\n",
       "  </thead>\n",
       "  <tbody>\n",
       "  </tbody>\n",
       "</table>\n",
       "</div>"
      ],
      "text/plain": [
       "Empty DataFrame\n",
       "Columns: [Open, High, Low, Close]\n",
       "Index: []"
      ]
     },
     "execution_count": 15,
     "metadata": {},
     "output_type": "execute_result"
    }
   ],
   "source": [
    "stk_data1"
   ]
  },
  {
   "cell_type": "code",
   "execution_count": null,
   "id": "81a152ee",
   "metadata": {},
   "outputs": [],
   "source": [
    "from sklearn.preprocessing import MinMaxScaler\n",
    "Ms = MinMaxScaler()\n",
    "data1= Ms.fit_transform(stk_data[[\"Close\"]])\n",
    "print(\"Len:\",data1.shape)"
   ]
  },
  {
   "cell_type": "code",
   "execution_count": null,
   "id": "a0b6093f",
   "metadata": {},
   "outputs": [],
   "source": [
    "\"\"\"from statsmodels.tsa.arima.model import ARIMA\n",
    "model = ARIMA(data1, order=(1,1,1))#Autoregressive Integrated Moving Average (ARIMA)\n",
    "model_fit = model.fit()\n",
    "# make prediction\n",
    "y_pred= model_fit.predict(len(stk_data), len(stk_data)-1)\n",
    "print(y_pred)\n",
    "from stockFunctions import rmsemape\n",
    "rmsemape(stkk,predicted_stock_price_test_oriP[\"Open\"])\"\"\""
   ]
  },
  {
   "cell_type": "code",
   "execution_count": null,
   "id": "a77eaf00",
   "metadata": {},
   "outputs": [],
   "source": [
    "orders=[(0,0,0),(0,0,1),(2,0,1),(1,1,1)]\n",
    "#orderslist=[]\n",
    "#rscorelist=[]\n",
    "for i in orders:\n",
    "    #orderslist.append(i)\n",
    "    from statsmodels.tsa.statespace.sarimax import SARIMAX\n",
    "    model = SARIMAX(data1, order=i, seasonal_order=(0,0,0,12))\n",
    "    model_fit = model.fit()\n",
    "    # make prediction\n",
    "    y_pred= model_fit.predict(0, len(data1)-1)\n",
    "    #print(y_pred)\n",
    "    from stockFunctions import rmsemape\n",
    "    rmsemape(data1,y_pred)\n",
    "    "
   ]
  },
  {
   "cell_type": "code",
   "execution_count": null,
   "id": "de27b82a",
   "metadata": {},
   "outputs": [],
   "source": [
    "from stockFunctions import graph\n",
    "graph(data1,y_pred,\"Actual\",\"Predicted\",\"TataCoffee-Close\",\"Days\",\"Prices\")"
   ]
  },
  {
   "cell_type": "code",
   "execution_count": null,
   "id": "474a284d",
   "metadata": {},
   "outputs": [],
   "source": [
    "len(data1)"
   ]
  },
  {
   "cell_type": "code",
   "execution_count": null,
   "id": "e2115af5",
   "metadata": {},
   "outputs": [],
   "source": [
    "from stockFunctions import conversionSingle\n",
    "aTestNormTable=conversionSingle(data1,[\"Close\"])\n",
    "actual_stock_price_test_ori=Ms.inverse_transform(aTestNormTable)\n",
    "actual_stock_price_test_oriA=conversionSingle(actual_stock_price_test_ori,[\"Close\"])"
   ]
  },
  {
   "cell_type": "code",
   "execution_count": null,
   "id": "06e98c17",
   "metadata": {},
   "outputs": [],
   "source": [
    "from stockFunctions import conversionSingle\n",
    "pTestNormTable=conversionSingle(y_pred,[\"Close\"])\n",
    "predicted_stock_price_test_ori=Ms.inverse_transform(pTestNormTable)\n",
    "predicted_stock_price_test_oriP=conversionSingle(predicted_stock_price_test_ori,[\"Close\"])"
   ]
  },
  {
   "cell_type": "code",
   "execution_count": null,
   "id": "22e8bda9",
   "metadata": {},
   "outputs": [],
   "source": [
    "from stockFunctions import graph\n",
    "graph(actual_stock_price_test_oriA,predicted_stock_price_test_oriP,\"Actual\",\"Predicted\",\"TataCoffee-CLose\",\"Days\",\"Prices\")"
   ]
  },
  {
   "cell_type": "code",
   "execution_count": null,
   "id": "46ba8790",
   "metadata": {},
   "outputs": [],
   "source": [
    "from stockFunctions import rmsemape\n",
    "rmsemape(actual_stock_price_test_oriA,predicted_stock_price_test_oriP)"
   ]
  },
  {
   "cell_type": "code",
   "execution_count": null,
   "id": "15059f1e",
   "metadata": {},
   "outputs": [],
   "source": [
    "forecast=model_fit.predict(len(data1), len(data1)+1)"
   ]
  },
  {
   "cell_type": "code",
   "execution_count": null,
   "id": "9d7cc9cc",
   "metadata": {},
   "outputs": [],
   "source": [
    "forecast"
   ]
  },
  {
   "cell_type": "code",
   "execution_count": null,
   "id": "96e4be56",
   "metadata": {},
   "outputs": [],
   "source": [
    "from stockFunctions import conversionSingle\n",
    "fTestNormTable=conversionSingle(forecast,[\"Closefore\"])\n",
    "forecast_stock_price_test_ori=Ms.inverse_transform(fTestNormTable)\n",
    "forecast_stock_price_test_oriF=conversionSingle(forecast_stock_price_test_ori,[\"Closefore\"])"
   ]
  },
  {
   "cell_type": "code",
   "execution_count": null,
   "id": "333f09a4",
   "metadata": {},
   "outputs": [],
   "source": [
    "forecast_stock_price_test_oriF.to_csv(\"Closets.csv\",index=False)"
   ]
  },
  {
   "cell_type": "code",
   "execution_count": null,
   "id": "85b9168d",
   "metadata": {},
   "outputs": [],
   "source": [
    "forecast_stock_price_test_oriF"
   ]
  },
  {
   "cell_type": "code",
   "execution_count": null,
   "id": "cb3b4ff9",
   "metadata": {},
   "outputs": [],
   "source": [
    "import matplotlib.pyplot as plt\n",
    "plt.figure(figsize=(10,5))\n",
    "plt.plot(actual_stock_price_test_oriA[2:2225], color = 'blue', label=\"Actual\")\n",
    "plt.plot(forecast_stock_price_test_oriF, color = 'red', label =\"Predicted\")\n"
   ]
  },
  {
   "cell_type": "code",
   "execution_count": null,
   "id": "edc44418",
   "metadata": {},
   "outputs": [],
   "source": []
  },
  {
   "cell_type": "code",
   "execution_count": null,
   "id": "9b450013",
   "metadata": {},
   "outputs": [],
   "source": []
  },
  {
   "cell_type": "code",
   "execution_count": null,
   "id": "21b0a277",
   "metadata": {},
   "outputs": [],
   "source": []
  }
 ],
 "metadata": {
  "kernelspec": {
   "display_name": "Python 3 (ipykernel)",
   "language": "python",
   "name": "python3"
  },
  "language_info": {
   "codemirror_mode": {
    "name": "ipython",
    "version": 3
   },
   "file_extension": ".py",
   "mimetype": "text/x-python",
   "name": "python",
   "nbconvert_exporter": "python",
   "pygments_lexer": "ipython3",
   "version": "3.11.5"
  }
 },
 "nbformat": 4,
 "nbformat_minor": 5
}
